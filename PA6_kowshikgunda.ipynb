{
 "cells": [
  {
   "cell_type": "code",
   "execution_count": 22,
   "metadata": {},
   "outputs": [],
   "source": [
    "import numpy as np\n",
    "\n",
    "input = \"\"\n",
    "with open (\"data.dat\", \"r\") as myfile:    \n",
    "    input=myfile.readlines()\n",
    "    "
   ]
  },
  {
   "cell_type": "code",
   "execution_count": 23,
   "metadata": {},
   "outputs": [],
   "source": [
    "class Node():\n",
    "    def __init__(self, name = \"\", cReward = 0, futReward = [], action = [], greatestPol = \"\",greatestPolval = 0,prevRowValue = 0):\n",
    "        #Self\n",
    "        self.name = name \n",
    "        self.cReward = cReward  \n",
    "        self.greatestPol = greatestPol \n",
    "        self.greatestPolval = greatestPolval \n",
    "        self.prevRowValue = prevRowValue \n",
    "\n",
    "        self.futReward = futReward\n",
    "        self.action = action      "
   ]
  },
  {
   "cell_type": "code",
   "execution_count": 24,
   "metadata": {},
   "outputs": [],
   "source": [
    "def getList(inputfile):   \n",
    "\n",
    "    list = []\n",
    "    nodeName = \"\"\n",
    "    \n",
    "    for line in input: \n",
    "        i = 0\n",
    "        count = 0\n",
    "        state = Node()\n",
    "        state.action = []\n",
    "        line = line.replace(')', '')\n",
    "        line = line.replace('\\n', '')\n",
    "        tokens = line.split('(')\n",
    "        stateName = tokens[0].split(\" \")[0]\n",
    "        iReward = tokens[0].split(\" \")[1]\n",
    "        \n",
    "        state.name = stateName\n",
    "        state.cReward = iReward\n",
    "        actions = []\n",
    "        for i in range(1,  len(tokens)):\n",
    "            state.action.append(tokens[i].strip())\n",
    "        \n",
    "        list.append(state)\n",
    "    return list"
   ]
  },
  {
   "cell_type": "code",
   "execution_count": 25,
   "metadata": {},
   "outputs": [],
   "source": [
    "def getActionValues(action , nodeList):\n",
    "\n",
    "    act, state, prob = action.split(' ')\n",
    "    index = 0\n",
    "    for i in range(len(nodeList)):        \n",
    "        if(nodeList[i].name == state):\n",
    "            index = i\n",
    "    return (float(prob) * float(nodeList[index].cReward))\n"
   ]
  },
  {
   "cell_type": "code",
   "execution_count": null,
   "metadata": {},
   "outputs": [],
   "source": [
    "    "
   ]
  },
  {
   "cell_type": "code",
   "execution_count": 26,
   "metadata": {},
   "outputs": [],
   "source": [
    "def getPolicy(action , nodeList):\n",
    "\n",
    "    act, state, prob = action.split(' ')\n",
    "    index = 0\n",
    "    for i in range(len(nodeList)):        \n",
    "        if(nodeList[i].name == state):\n",
    "            index = i\n",
    "    return (float(prob) * float(nodeList[index].prevRowValue))\n",
    "\n",
    "    \n",
    "    "
   ]
  },
  {
   "cell_type": "code",
   "execution_count": 27,
   "metadata": {},
   "outputs": [],
   "source": [
    "def MDP(totalStates,totalActions,inputfile,  disFactor):\n",
    "    nodeList = getList(inputfile) \n",
    "   \n",
    "    for state in nodeList:\n",
    "\n",
    "        a1 = 0\n",
    "        a2 = 0\n",
    "\n",
    "        for act in state.action:\n",
    "                \n",
    "            if(\"a1\" in act):                    \n",
    "                a1 += getActionValues(act , nodeList)\n",
    "                    \n",
    "            elif(\"a2\" in act):\n",
    "                a2 += getActionValues(act , nodeList)\n",
    "                    \n",
    "        a1 *= disFactor\n",
    "        a1 += float(state.cReward)\n",
    "        a2 *= disFactor\n",
    "        a2 += float(state.cReward)\n",
    "        \n",
    "        if(a1 > a2):\n",
    "            state.greatestPol =\"a1\"\n",
    "            state.greatestPolval = a1\n",
    "        elif(a2 > a1):\n",
    "            state.greatestPol =\"a2\"\n",
    "            state.greatestPolval = a2\n",
    "            \n",
    "    print(\"After iteration 1:\", end = '')\n",
    "    for state in nodeList:\n",
    "        print( \"(%s %s %s) \" %(state.name,state.greatestPol,state.greatestPolval), end = '')\n",
    "        state.prevRowValue = state.greatestPolval\n",
    "        \n",
    "    for i in range(totalStates**totalActions-1):\n",
    "         \n",
    "        for state in nodeList:            \n",
    "\n",
    "            a1 = 0\n",
    "            a2 = 0\n",
    "\n",
    "            for act in state.action:\n",
    "                \n",
    "                if(\"a1\" in act):                    \n",
    "                    a1 += getPolicy(act , nodeList)\n",
    "                    \n",
    "                elif(\"a2\" in act):\n",
    "                    a2 += getPolicy(act , nodeList)\n",
    "                    \n",
    "            a1 *= disFactor\n",
    "            a1 += float(state.cReward)\n",
    "            a2 *= disFactor\n",
    "            a2 += float(state.cReward)\n",
    "        \n",
    "            if(a1 > a2):\n",
    "                state.greatestPol =\"a1\"\n",
    "                state.greatestPolval = a1\n",
    "            elif(a2 > a1):\n",
    "                state.greatestPol =\"a2\"\n",
    "                state.greatestPolval = a2\n",
    "\n",
    "        print(\"After iteration %d:\" %(i+2), end = '')\n",
    "        for state in nodeList:\n",
    "            print( \"(%s %s %s) \" %(state.name,state.greatestPol,state.greatestPolval), end = '')\n",
    "            state.prevRowValue = state.greatestPolval\n",
    "        print()\n",
    "\n",
    "    print()"
   ]
  },
  {
   "cell_type": "code",
   "execution_count": 28,
   "metadata": {
    "scrolled": true
   },
   "outputs": [
    {
     "name": "stdout",
     "output_type": "stream",
     "text": [
      "After iteration 1:(s1 a1 10.964) (s2 a1 12.8) (s3 a2 2.2) After iteration 2:(s1 a1 14.492380800000001) (s2 a1 17.10848) (s3 a2 4.946240000000003) \n",
      "After iteration 3:(s1 a1 17.621508405760004) (s2 a1 19.930694656000004) (s3 a2 8.268208128000001) \n",
      "After iteration 4:(s1 a1 20.004255083702276) (s2 a1 22.406619358003205) (s3 a2 10.575085924761604) \n",
      "After iteration 5:(s1 a1 21.947052753907226) (s2 a1 24.316970894648286) (s3 a2 12.540917202514418) \n",
      "After iteration 6:(s1 a1 23.488546048808868) (s2 a1 25.86895002456936) (s3 a2 14.07438981320006) \n",
      "After iteration 7:(s1 a1 24.72585952072582) (s2 a1 27.1027362966835) (s3 a2 15.314295383533814) \n",
      "After iteration 8:(s1 a1 25.714324814176834) (s2 a1 28.092362649884418) (s3 a2 16.301888753193573) \n",
      "After iteration 9:(s1 a1 26.50555311320741) (s2 a1 28.883204277275308) (s3 a2 17.093404066194324) \n",
      "\n"
     ]
    }
   ],
   "source": [
    "MDP(3,2,\"data.dat\",0.8)\n"
   ]
  }
 ],
 "metadata": {
  "kernelspec": {
   "display_name": "Python 3",
   "language": "python",
   "name": "python3"
  },
  "language_info": {
   "codemirror_mode": {
    "name": "ipython",
    "version": 3
   },
   "file_extension": ".py",
   "mimetype": "text/x-python",
   "name": "python",
   "nbconvert_exporter": "python",
   "pygments_lexer": "ipython3",
   "version": "3.7.3"
  }
 },
 "nbformat": 4,
 "nbformat_minor": 2
}
